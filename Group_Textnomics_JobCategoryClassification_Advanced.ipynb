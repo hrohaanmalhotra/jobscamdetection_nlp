{
 "cells": [
  {
   "cell_type": "code",
   "execution_count": 1,
   "metadata": {},
   "outputs": [],
   "source": [
    "#import packages\n",
    "from time import time\n",
    "from collections import Counter\n",
    "import pandas as pd\n",
    "import numpy as np\n",
    "import seaborn as sns\n",
    "import matplotlib.pyplot as plt\n",
    "from imblearn.over_sampling import SMOTE, KMeansSMOTE\n",
    "import nltk\n",
    "from nltk.corpus import stopwords\n",
    "from nltk.stem import WordNetLemmatizer\n",
    "from sklearn import preprocessing\n",
    "from sklearn.feature_extraction.text import TfidfVectorizer\n",
    "from sklearn.model_selection import train_test_split\n",
    "from sklearn.naive_bayes import BernoulliNB\n",
    "from sklearn.svm import LinearSVC\n",
    "from sklearn.svm import SVC\n",
    "from sklearn.metrics import precision_score\n",
    "from sklearn.ensemble import RandomForestClassifier\n",
    "from sklearn.metrics import classification_report\n",
    "from nltk.tokenize import word_tokenize\n",
    "from nltk.stem import WordNetLemmatizer\n",
    "from nltk.stem import PorterStemmer\n",
    "from tqdm import tqdm\n",
    "from sklearn.preprocessing import LabelEncoder\n",
    "import tensorflow as tf\n",
    "from keras.models import Sequential\n",
    "from keras.layers.recurrent import LSTM, GRU\n",
    "from keras.layers.core import Dense, Activation, Dropout\n",
    "from keras.layers.embeddings import Embedding\n",
    "from tensorflow.keras.layers import (\n",
    "    BatchNormalization, SeparableConv2D, MaxPooling2D, Activation, Flatten, Dropout, Dense\n",
    ")\n",
    "from keras.utils import np_utils\n",
    "from keras.layers import GlobalMaxPooling1D, Conv1D, MaxPooling1D, Flatten, Bidirectional, SpatialDropout1D\n",
    "from keras.preprocessing import sequence\n",
    "from keras.preprocessing.text import Tokenizer\n",
    "from keras.utils import np_utils\n",
    "from keras.callbacks import EarlyStopping"
   ]
  },
  {
   "cell_type": "code",
   "execution_count": 2,
   "metadata": {},
   "outputs": [
    {
     "name": "stdout",
     "output_type": "stream",
     "text": [
      "<class 'pandas.core.frame.DataFrame'>\n",
      "RangeIndex: 17880 entries, 0 to 17879\n",
      "Data columns (total 18 columns):\n",
      " #   Column               Non-Null Count  Dtype \n",
      "---  ------               --------------  ----- \n",
      " 0   job_id               17880 non-null  int64 \n",
      " 1   title                17880 non-null  object\n",
      " 2   location             17534 non-null  object\n",
      " 3   department           6333 non-null   object\n",
      " 4   salary_range         2868 non-null   object\n",
      " 5   company_profile      14572 non-null  object\n",
      " 6   description          17879 non-null  object\n",
      " 7   requirements         15185 non-null  object\n",
      " 8   benefits             10670 non-null  object\n",
      " 9   telecommuting        17880 non-null  int64 \n",
      " 10  has_company_logo     17880 non-null  int64 \n",
      " 11  has_questions        17880 non-null  int64 \n",
      " 12  employment_type      14409 non-null  object\n",
      " 13  required_experience  10830 non-null  object\n",
      " 14  required_education   9775 non-null   object\n",
      " 15  industry             12977 non-null  object\n",
      " 16  function             11425 non-null  object\n",
      " 17  fraudulent           17880 non-null  int64 \n",
      "dtypes: int64(5), object(13)\n",
      "memory usage: 2.5+ MB\n"
     ]
    }
   ],
   "source": [
    "#reading data\n",
    "df = pd.read_csv(\"fake_job_postings.csv\")\n",
    "df.info()"
   ]
  },
  {
   "cell_type": "code",
   "execution_count": 3,
   "metadata": {},
   "outputs": [],
   "source": [
    "#Function to preprocess\n",
    "# df['text']=df['text'].str.lower()\n",
    "def preprocess(df):\n",
    "    df = df[df.location.notnull()]\n",
    "    df = df[df.function.notnull()]\n",
    "    df= df[df.location.str.contains(\"US,\")] \n",
    "    df['description']=df['description'].str.lower()\n",
    "    return df\n",
    "\n",
    "df = preprocess(df) "
   ]
  },
  {
   "cell_type": "code",
   "execution_count": 4,
   "metadata": {},
   "outputs": [],
   "source": [
    "df = df[df.function.isin(df['function'].value_counts()[df['function'].value_counts() > 260].index.tolist())]"
   ]
  },
  {
   "cell_type": "code",
   "execution_count": 5,
   "metadata": {},
   "outputs": [
    {
     "data": {
      "text/plain": [
       "8"
      ]
     },
     "execution_count": 5,
     "metadata": {},
     "output_type": "execute_result"
    }
   ],
   "source": [
    "df.function.unique()\n",
    "len(df.function.unique())"
   ]
  },
  {
   "cell_type": "code",
   "execution_count": 6,
   "metadata": {},
   "outputs": [
    {
     "data": {
      "text/plain": [
       "Customer Service          955\n",
       "Sales                     951\n",
       "Information Technology    765\n",
       "Engineering               690\n",
       "Administrative            394\n",
       "Marketing                 390\n",
       "Education                 292\n",
       "Health Care Provider      264\n",
       "Name: function, dtype: int64"
      ]
     },
     "execution_count": 6,
     "metadata": {},
     "output_type": "execute_result"
    }
   ],
   "source": [
    "df.function.value_counts()\n",
    "\n"
   ]
  },
  {
   "cell_type": "code",
   "execution_count": 7,
   "metadata": {},
   "outputs": [],
   "source": [
    "#lemmatiaztion\n",
    "def getLemmText(text):\n",
    "    tokens=word_tokenize(text)\n",
    "    lemmatizer = WordNetLemmatizer()\n",
    "    tokens=[lemmatizer.lemmatize(word) for word in tokens]\n",
    "    return ' '.join(tokens)\n",
    "\n",
    "df['description'] = list(map(getLemmText,df['description']))"
   ]
  },
  {
   "cell_type": "code",
   "execution_count": 8,
   "metadata": {},
   "outputs": [
    {
     "data": {
      "text/html": [
       "<div>\n",
       "<style scoped>\n",
       "    .dataframe tbody tr th:only-of-type {\n",
       "        vertical-align: middle;\n",
       "    }\n",
       "\n",
       "    .dataframe tbody tr th {\n",
       "        vertical-align: top;\n",
       "    }\n",
       "\n",
       "    .dataframe thead th {\n",
       "        text-align: right;\n",
       "    }\n",
       "</style>\n",
       "<table border=\"1\" class=\"dataframe\">\n",
       "  <thead>\n",
       "    <tr style=\"text-align: right;\">\n",
       "      <th></th>\n",
       "      <th>function</th>\n",
       "      <th>description</th>\n",
       "    </tr>\n",
       "  </thead>\n",
       "  <tbody>\n",
       "    <tr>\n",
       "      <th>0</th>\n",
       "      <td>Marketing</td>\n",
       "      <td>food52 , a fast-grow , jame beard award-win on...</td>\n",
       "    </tr>\n",
       "    <tr>\n",
       "      <th>1</th>\n",
       "      <td>Sales</td>\n",
       "      <td>the compani : esri – environment system resear...</td>\n",
       "    </tr>\n",
       "    <tr>\n",
       "      <th>2</th>\n",
       "      <td>Health Care Provider</td>\n",
       "      <td>job titl : item review managerloc : fort worth...</td>\n",
       "    </tr>\n",
       "    <tr>\n",
       "      <th>3</th>\n",
       "      <td>Customer Service</td>\n",
       "      <td>the custom servic associ will be base in phoen...</td>\n",
       "    </tr>\n",
       "    <tr>\n",
       "      <th>4</th>\n",
       "      <td>Information Technology</td>\n",
       "      <td>posit : # url_86fd830a95a64e2b30ceed829e63fd38...</td>\n",
       "    </tr>\n",
       "    <tr>\n",
       "      <th>...</th>\n",
       "      <td>...</td>\n",
       "      <td>...</td>\n",
       "    </tr>\n",
       "    <tr>\n",
       "      <th>4696</th>\n",
       "      <td>Information Technology</td>\n",
       "      <td>perform basic workstat troubl analysi to inclu...</td>\n",
       "    </tr>\n",
       "    <tr>\n",
       "      <th>4697</th>\n",
       "      <td>Engineering</td>\n",
       "      <td>what we 're look for : you 've been an integr ...</td>\n",
       "    </tr>\n",
       "    <tr>\n",
       "      <th>4698</th>\n",
       "      <td>Information Technology</td>\n",
       "      <td>posit : sr. sql server dbaloc : bay area , cad...</td>\n",
       "    </tr>\n",
       "    <tr>\n",
       "      <th>4699</th>\n",
       "      <td>Health Care Provider</td>\n",
       "      <td>crossroad treatment center in south carolina i...</td>\n",
       "    </tr>\n",
       "    <tr>\n",
       "      <th>4700</th>\n",
       "      <td>Information Technology</td>\n",
       "      <td>sr , javascript develop experi : 4-10 year loc...</td>\n",
       "    </tr>\n",
       "  </tbody>\n",
       "</table>\n",
       "<p>4701 rows × 2 columns</p>\n",
       "</div>"
      ],
      "text/plain": [
       "                    function  \\\n",
       "0                  Marketing   \n",
       "1                      Sales   \n",
       "2       Health Care Provider   \n",
       "3           Customer Service   \n",
       "4     Information Technology   \n",
       "...                      ...   \n",
       "4696  Information Technology   \n",
       "4697             Engineering   \n",
       "4698  Information Technology   \n",
       "4699    Health Care Provider   \n",
       "4700  Information Technology   \n",
       "\n",
       "                                            description  \n",
       "0     food52 , a fast-grow , jame beard award-win on...  \n",
       "1     the compani : esri – environment system resear...  \n",
       "2     job titl : item review managerloc : fort worth...  \n",
       "3     the custom servic associ will be base in phoen...  \n",
       "4     posit : # url_86fd830a95a64e2b30ceed829e63fd38...  \n",
       "...                                                 ...  \n",
       "4696  perform basic workstat troubl analysi to inclu...  \n",
       "4697  what we 're look for : you 've been an integr ...  \n",
       "4698  posit : sr. sql server dbaloc : bay area , cad...  \n",
       "4699  crossroad treatment center in south carolina i...  \n",
       "4700  sr , javascript develop experi : 4-10 year loc...  \n",
       "\n",
       "[4701 rows x 2 columns]"
      ]
     },
     "execution_count": 8,
     "metadata": {},
     "output_type": "execute_result"
    }
   ],
   "source": [
    "def getStemmText(text):\n",
    "    tokens=word_tokenize(text)\n",
    "    ps = PorterStemmer()\n",
    "    tokens=[ps.stem(word) for word in tokens]\n",
    "    return ' '.join(tokens)\n",
    "\n",
    "df['description'] = list(map(getStemmText,df['description']))\n",
    "df_text = pd.DataFrame({'function': df.function.tolist() , 'description': df.description.tolist()})\n",
    "df_text"
   ]
  },
  {
   "cell_type": "code",
   "execution_count": 9,
   "metadata": {},
   "outputs": [],
   "source": [
    "df_text['description']= df_text['description'].astype(str)"
   ]
  },
  {
   "cell_type": "code",
   "execution_count": 10,
   "metadata": {},
   "outputs": [
    {
     "name": "stdout",
     "output_type": "stream",
     "text": [
      "<class 'pandas.core.frame.DataFrame'>\n",
      "RangeIndex: 4701 entries, 0 to 4700\n",
      "Data columns (total 2 columns):\n",
      " #   Column       Non-Null Count  Dtype \n",
      "---  ------       --------------  ----- \n",
      " 0   function     4701 non-null   object\n",
      " 1   description  4701 non-null   object\n",
      "dtypes: object(2)\n",
      "memory usage: 73.6+ KB\n"
     ]
    }
   ],
   "source": [
    "df_text.info()"
   ]
  },
  {
   "cell_type": "code",
   "execution_count": 11,
   "metadata": {},
   "outputs": [
    {
     "name": "stderr",
     "output_type": "stream",
     "text": [
      "400000it [00:31, 12769.83it/s]"
     ]
    },
    {
     "name": "stdout",
     "output_type": "stream",
     "text": [
      "400000\n"
     ]
    },
    {
     "name": "stderr",
     "output_type": "stream",
     "text": [
      "\n"
     ]
    }
   ],
   "source": [
    "#Loading Glove Embedding\n",
    "embeddings_index = {}\n",
    "f = open('glove.6B.50d.txt', encoding='utf8')\n",
    "for line in tqdm(f):\n",
    "    value = line.split()\n",
    "    word = value[0]\n",
    "    coef = np.asarray(value[1:], dtype='float32')\n",
    "    embeddings_index[word] = coef\n",
    "f.close()\n",
    "print(len(embeddings_index))"
   ]
  },
  {
   "cell_type": "code",
   "execution_count": 12,
   "metadata": {},
   "outputs": [],
   "source": [
    "VOCABULARY_SIZE = 2000\n",
    "MAX_LENGTH = 100"
   ]
  },
  {
   "cell_type": "code",
   "execution_count": 13,
   "metadata": {},
   "outputs": [],
   "source": [
    "# encode class values as integers\n",
    "encoder = LabelEncoder()\n",
    "encoder.fit(df_text.function)\n",
    "encoded_Y = encoder.transform(df_text.function)\n",
    "# convert integers to dummy variables (i.e. one hot encoded)\n",
    "dummy_y = np_utils.to_categorical(encoded_Y)"
   ]
  },
  {
   "cell_type": "code",
   "execution_count": 14,
   "metadata": {},
   "outputs": [],
   "source": [
    "train_x, test_x, train_y, test_y = train_test_split(df_text.description, dummy_y, test_size=0.2, random_state=0)"
   ]
  },
  {
   "cell_type": "code",
   "execution_count": 15,
   "metadata": {},
   "outputs": [
    {
     "name": "stderr",
     "output_type": "stream",
     "text": [
      "100%|████████████████████████████████████████████████████████████████████████| 21330/21330 [00:00<00:00, 189256.35it/s]\n"
     ]
    }
   ],
   "source": [
    "tokenizer = Tokenizer(num_words=VOCABULARY_SIZE)\n",
    "tokenizer.fit_on_texts(list(train_x) + list(test_x))\n",
    "\n",
    "xtrain_sequence = tokenizer.texts_to_sequences(train_x)\n",
    "xtest_sequence = tokenizer.texts_to_sequences(test_x)\n",
    "\n",
    "xtrain_padding = sequence.pad_sequences(xtrain_sequence, maxlen=MAX_LENGTH)\n",
    "xtest_padding = sequence.pad_sequences(xtest_sequence, maxlen=MAX_LENGTH)\n",
    "word_index = tokenizer.word_index\n",
    "\n",
    "embedding_matrix = np.zeros((len(word_index) + 1, 50))\n",
    "for word, i in tqdm(word_index.items()):\n",
    "    embedding_vector = embeddings_index.get(word)\n",
    "    if embedding_vector is not None:\n",
    "        embedding_matrix[i] = embedding_vector"
   ]
  },
  {
   "cell_type": "code",
   "execution_count": 16,
   "metadata": {},
   "outputs": [
    {
     "data": {
      "text/plain": [
       "(3760, 100)"
      ]
     },
     "execution_count": 16,
     "metadata": {},
     "output_type": "execute_result"
    }
   ],
   "source": [
    "xtrain_padding.shape"
   ]
  },
  {
   "cell_type": "code",
   "execution_count": 17,
   "metadata": {},
   "outputs": [
    {
     "data": {
      "text/plain": [
       "(3760, 100)"
      ]
     },
     "execution_count": 17,
     "metadata": {},
     "output_type": "execute_result"
    }
   ],
   "source": [
    "xtrain_padding.shape"
   ]
  },
  {
   "cell_type": "code",
   "execution_count": 18,
   "metadata": {},
   "outputs": [],
   "source": [
    "#LSTM\n",
    "max_features=VOCABULARY_SIZE\n",
    "maxlen=MAX_LENGTH\n",
    "model = Sequential()\n",
    "# model.add(Embedding(max_features, 40, input_length=maxlen))\n",
    "model.add(Embedding(len(word_index) + 1,50,weights=[embedding_matrix],input_length=MAX_LENGTH,trainable=False))\n",
    "model.add(SpatialDropout1D(0.3))\n",
    "model.add(Bidirectional(LSTM(100, dropout=0.3, recurrent_dropout=0.3)))\n",
    "model.add(Dense(1024, activation='relu'))\n",
    "model.add(Dropout(0.4))\n",
    "model.add(Dense(1024, activation='relu'))\n",
    "model.add(Dropout(0.4))\n",
    "model.add(Dense(8))\n",
    "model.add(Activation('softmax'))\n",
    "model.compile(loss='categorical_crossentropy', optimizer='adam', metrics=['accuracy'])"
   ]
  },
  {
   "cell_type": "code",
   "execution_count": 19,
   "metadata": {},
   "outputs": [
    {
     "name": "stdout",
     "output_type": "stream",
     "text": [
      "Epoch 1/20\n",
      "79/79 [==============================] - 85s 732ms/step - loss: 1.8815 - accuracy: 0.2747 - val_loss: 1.6050 - val_accuracy: 0.3645\n",
      "Epoch 2/20\n",
      "79/79 [==============================] - 58s 729ms/step - loss: 1.5832 - accuracy: 0.4008 - val_loss: 1.4177 - val_accuracy: 0.4548\n",
      "Epoch 3/20\n",
      "79/79 [==============================] - 63s 801ms/step - loss: 1.4563 - accuracy: 0.4511 - val_loss: 1.1194 - val_accuracy: 0.5430\n",
      "Epoch 4/20\n",
      "79/79 [==============================] - 62s 783ms/step - loss: 1.3478 - accuracy: 0.4843 - val_loss: 1.1213 - val_accuracy: 0.5664\n",
      "Epoch 5/20\n",
      "79/79 [==============================] - 62s 790ms/step - loss: 1.2960 - accuracy: 0.5133 - val_loss: 1.2366 - val_accuracy: 0.5228\n",
      "Epoch 6/20\n",
      "79/79 [==============================] - 59s 746ms/step - loss: 1.2072 - accuracy: 0.5407 - val_loss: 0.9914 - val_accuracy: 0.6121\n",
      "Epoch 7/20\n",
      "79/79 [==============================] - 56s 712ms/step - loss: 1.1735 - accuracy: 0.5617 - val_loss: 1.0449 - val_accuracy: 0.5994\n",
      "Epoch 8/20\n",
      "79/79 [==============================] - 64s 815ms/step - loss: 1.1295 - accuracy: 0.5734 - val_loss: 0.9194 - val_accuracy: 0.6833\n",
      "Epoch 9/20\n",
      "79/79 [==============================] - 69s 881ms/step - loss: 1.0811 - accuracy: 0.6040 - val_loss: 0.9161 - val_accuracy: 0.6536\n",
      "Epoch 10/20\n",
      "79/79 [==============================] - 64s 811ms/step - loss: 1.0346 - accuracy: 0.6170 - val_loss: 0.9312 - val_accuracy: 0.6780\n",
      "Epoch 11/20\n",
      "79/79 [==============================] - 67s 847ms/step - loss: 0.9856 - accuracy: 0.6386 - val_loss: 0.8595 - val_accuracy: 0.6929\n",
      "Epoch 12/20\n",
      "79/79 [==============================] - 110s 1s/step - loss: 0.9692 - accuracy: 0.6415 - val_loss: 0.8384 - val_accuracy: 0.6939\n",
      "Epoch 13/20\n",
      "79/79 [==============================] - 31s 390ms/step - loss: 0.9020 - accuracy: 0.6668 - val_loss: 0.8359 - val_accuracy: 0.6908\n",
      "Epoch 14/20\n",
      "79/79 [==============================] - 31s 396ms/step - loss: 0.8746 - accuracy: 0.6694 - val_loss: 0.8412 - val_accuracy: 0.6908\n",
      "Epoch 15/20\n",
      "79/79 [==============================] - 90s 1s/step - loss: 0.8767 - accuracy: 0.6745 - val_loss: 0.7789 - val_accuracy: 0.7163\n",
      "Epoch 16/20\n",
      "79/79 [==============================] - 31s 397ms/step - loss: 0.8335 - accuracy: 0.6902 - val_loss: 0.8685 - val_accuracy: 0.6886\n",
      "Epoch 17/20\n",
      "79/79 [==============================] - 34s 427ms/step - loss: 0.8192 - accuracy: 0.6957 - val_loss: 0.8097 - val_accuracy: 0.7014\n",
      "Epoch 18/20\n",
      "79/79 [==============================] - 37s 476ms/step - loss: 0.7659 - accuracy: 0.7128 - val_loss: 0.7847 - val_accuracy: 0.7216\n",
      "Epoch 19/20\n",
      "79/79 [==============================] - 58s 732ms/step - loss: 0.7607 - accuracy: 0.7255 - val_loss: 0.8992 - val_accuracy: 0.6823\n",
      "Epoch 20/20\n",
      "79/79 [==============================] - 34s 433ms/step - loss: 0.7462 - accuracy: 0.7231 - val_loss: 0.8095 - val_accuracy: 0.7099\n"
     ]
    }
   ],
   "source": [
    "history = model.fit(xtrain_padding, y=train_y, batch_size=48, epochs=20, verbose=1, validation_data=(xtest_padding,test_y ))"
   ]
  },
  {
   "cell_type": "code",
   "execution_count": 20,
   "metadata": {},
   "outputs": [],
   "source": [
    "y_pred = model.predict(xtest_padding)\n",
    "from sklearn.metrics import precision_recall_fscore_support"
   ]
  },
  {
   "cell_type": "code",
   "execution_count": 21,
   "metadata": {},
   "outputs": [
    {
     "name": "stdout",
     "output_type": "stream",
     "text": [
      "(0.7620817843866171, 0.6535600425079703, 0.7036613272311213, None)\n"
     ]
    }
   ],
   "source": [
    "print(precision_recall_fscore_support(test_y, y_pred.round(),average='micro'))"
   ]
  },
  {
   "cell_type": "code",
   "execution_count": 24,
   "metadata": {},
   "outputs": [
    {
     "data": {
      "image/png": "[encoded data removed]",
      "text/plain": [
       "<Figure size 432x288 with 1 Axes>"
      ]
     },
     "metadata": {
      "needs_background": "light"
     },
     "output_type": "display_data"
    },
    {
     "data": {
      "image/png": "[encoded data removed]",
      "text/plain": [
       "<Figure size 432x288 with 1 Axes>"
      ]
     },
     "metadata": {
      "needs_background": "light"
     },
     "output_type": "display_data"
    }
   ],
   "source": [
    "#Model Evaluation\n",
    "def graph_plots(history, string):\n",
    "    plt.plot(history.history[string])\n",
    "    plt.plot(history.history['val_'+string])\n",
    "    plt.xlabel(\"Epochs\")\n",
    "    plt.ylabel(string)\n",
    "    plt.legend([string, 'val_'+string])\n",
    "    plt.show()\n",
    "\n",
    "graph_plots(history, \"accuracy\")\n",
    "graph_plots(history, \"loss\")"
   ]
  },
  {
   "cell_type": "code",
   "execution_count": null,
   "metadata": {},
   "outputs": [],
   "source": []
  }
 ],
 "metadata": {
  "kernelspec": {
   "display_name": "Python 3 (ipykernel)",
   "language": "python",
   "name": "python3"
  },
  "language_info": {
   "codemirror_mode": {
    "name": "ipython",
    "version": 3
   },
   "file_extension": ".py",
   "mimetype": "text/x-python",
   "name": "python",
   "nbconvert_exporter": "python",
   "pygments_lexer": "ipython3",
   "version": "3.9.5"
  }
 },
 "nbformat": 4,
 "nbformat_minor": 4
}
